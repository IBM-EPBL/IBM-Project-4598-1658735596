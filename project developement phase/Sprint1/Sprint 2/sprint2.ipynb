{
 "cells": [
  {
   "cell_type": "markdown",
   "id": "613e3140",
   "metadata": {},
   "source": [
    "# Importing the libraries"
   ]
  },
  {
   "cell_type": "code",
   "execution_count": 1,
   "id": "96fb9967",
   "metadata": {},
   "outputs": [],
   "source": [
    "import pandas as pd\n",
    "import numpy as np\n",
    "import seaborn as sns\n",
    "import matplotlib.pyplot as plt\n",
    "import warnings\n",
    "warnings.filterwarnings('ignore')"
   ]
  },
  {
   "cell_type": "markdown",
   "id": "ff588b67",
   "metadata": {},
   "source": [
    "# Reading the Dataset"
   ]
  },
  {
   "cell_type": "code",
   "execution_count": 2,
   "id": "b593b530",
   "metadata": {
    "scrolled": true
   },
   "outputs": [
    {
     "data": {
      "text/html": [
       "<div>\n",
       "<style scoped>\n",
       "    .dataframe tbody tr th:only-of-type {\n",
       "        vertical-align: middle;\n",
       "    }\n",
       "\n",
       "    .dataframe tbody tr th {\n",
       "        vertical-align: top;\n",
       "    }\n",
       "\n",
       "    .dataframe thead th {\n",
       "        text-align: right;\n",
       "    }\n",
       "</style>\n",
       "<table border=\"1\" class=\"dataframe\">\n",
       "  <thead>\n",
       "    <tr style=\"text-align: right;\">\n",
       "      <th></th>\n",
       "      <th>dateCrawled</th>\n",
       "      <th>name</th>\n",
       "      <th>seller</th>\n",
       "      <th>offerType</th>\n",
       "      <th>price</th>\n",
       "      <th>abtest</th>\n",
       "      <th>vehicleType</th>\n",
       "      <th>yearOfRegistration</th>\n",
       "      <th>gearbox</th>\n",
       "      <th>powerPS</th>\n",
       "      <th>model</th>\n",
       "      <th>kilometer</th>\n",
       "      <th>monthOfRegistration</th>\n",
       "      <th>fuelType</th>\n",
       "      <th>brand</th>\n",
       "      <th>notRepairedDamage</th>\n",
       "      <th>dateCreated</th>\n",
       "      <th>nrOfPictures</th>\n",
       "      <th>postalCode</th>\n",
       "      <th>lastSeen</th>\n",
       "    </tr>\n",
       "  </thead>\n",
       "  <tbody>\n",
       "    <tr>\n",
       "      <th>0</th>\n",
       "      <td>2016-03-24 11:52:17</td>\n",
       "      <td>Golf_3_1.6</td>\n",
       "      <td>privat</td>\n",
       "      <td>Angebot</td>\n",
       "      <td>480</td>\n",
       "      <td>test</td>\n",
       "      <td>NaN</td>\n",
       "      <td>1993</td>\n",
       "      <td>manuell</td>\n",
       "      <td>0</td>\n",
       "      <td>golf</td>\n",
       "      <td>150000</td>\n",
       "      <td>0</td>\n",
       "      <td>benzin</td>\n",
       "      <td>volkswagen</td>\n",
       "      <td>NaN</td>\n",
       "      <td>2016-03-24 00:00:00</td>\n",
       "      <td>0</td>\n",
       "      <td>70435</td>\n",
       "      <td>2016-04-07 03:16:57</td>\n",
       "    </tr>\n",
       "    <tr>\n",
       "      <th>1</th>\n",
       "      <td>2016-03-24 10:58:45</td>\n",
       "      <td>A5_Sportback_2.7_Tdi</td>\n",
       "      <td>privat</td>\n",
       "      <td>Angebot</td>\n",
       "      <td>18300</td>\n",
       "      <td>test</td>\n",
       "      <td>coupe</td>\n",
       "      <td>2011</td>\n",
       "      <td>manuell</td>\n",
       "      <td>190</td>\n",
       "      <td>NaN</td>\n",
       "      <td>125000</td>\n",
       "      <td>5</td>\n",
       "      <td>diesel</td>\n",
       "      <td>audi</td>\n",
       "      <td>ja</td>\n",
       "      <td>2016-03-24 00:00:00</td>\n",
       "      <td>0</td>\n",
       "      <td>66954</td>\n",
       "      <td>2016-04-07 01:46:50</td>\n",
       "    </tr>\n",
       "    <tr>\n",
       "      <th>2</th>\n",
       "      <td>2016-03-14 12:52:21</td>\n",
       "      <td>Jeep_Grand_Cherokee_\"Overland\"</td>\n",
       "      <td>privat</td>\n",
       "      <td>Angebot</td>\n",
       "      <td>9800</td>\n",
       "      <td>test</td>\n",
       "      <td>suv</td>\n",
       "      <td>2004</td>\n",
       "      <td>automatik</td>\n",
       "      <td>163</td>\n",
       "      <td>grand</td>\n",
       "      <td>125000</td>\n",
       "      <td>8</td>\n",
       "      <td>diesel</td>\n",
       "      <td>jeep</td>\n",
       "      <td>NaN</td>\n",
       "      <td>2016-03-14 00:00:00</td>\n",
       "      <td>0</td>\n",
       "      <td>90480</td>\n",
       "      <td>2016-04-05 12:47:46</td>\n",
       "    </tr>\n",
       "    <tr>\n",
       "      <th>3</th>\n",
       "      <td>2016-03-17 16:54:04</td>\n",
       "      <td>GOLF_4_1_4__3TÜRER</td>\n",
       "      <td>privat</td>\n",
       "      <td>Angebot</td>\n",
       "      <td>1500</td>\n",
       "      <td>test</td>\n",
       "      <td>kleinwagen</td>\n",
       "      <td>2001</td>\n",
       "      <td>manuell</td>\n",
       "      <td>75</td>\n",
       "      <td>golf</td>\n",
       "      <td>150000</td>\n",
       "      <td>6</td>\n",
       "      <td>benzin</td>\n",
       "      <td>volkswagen</td>\n",
       "      <td>nein</td>\n",
       "      <td>2016-03-17 00:00:00</td>\n",
       "      <td>0</td>\n",
       "      <td>91074</td>\n",
       "      <td>2016-03-17 17:40:17</td>\n",
       "    </tr>\n",
       "    <tr>\n",
       "      <th>4</th>\n",
       "      <td>2016-03-31 17:25:20</td>\n",
       "      <td>Skoda_Fabia_1.4_TDI_PD_Classic</td>\n",
       "      <td>privat</td>\n",
       "      <td>Angebot</td>\n",
       "      <td>3600</td>\n",
       "      <td>test</td>\n",
       "      <td>kleinwagen</td>\n",
       "      <td>2008</td>\n",
       "      <td>manuell</td>\n",
       "      <td>69</td>\n",
       "      <td>fabia</td>\n",
       "      <td>90000</td>\n",
       "      <td>7</td>\n",
       "      <td>diesel</td>\n",
       "      <td>skoda</td>\n",
       "      <td>nein</td>\n",
       "      <td>2016-03-31 00:00:00</td>\n",
       "      <td>0</td>\n",
       "      <td>60437</td>\n",
       "      <td>2016-04-06 10:17:21</td>\n",
       "    </tr>\n",
       "    <tr>\n",
       "      <th>...</th>\n",
       "      <td>...</td>\n",
       "      <td>...</td>\n",
       "      <td>...</td>\n",
       "      <td>...</td>\n",
       "      <td>...</td>\n",
       "      <td>...</td>\n",
       "      <td>...</td>\n",
       "      <td>...</td>\n",
       "      <td>...</td>\n",
       "      <td>...</td>\n",
       "      <td>...</td>\n",
       "      <td>...</td>\n",
       "      <td>...</td>\n",
       "      <td>...</td>\n",
       "      <td>...</td>\n",
       "      <td>...</td>\n",
       "      <td>...</td>\n",
       "      <td>...</td>\n",
       "      <td>...</td>\n",
       "      <td>...</td>\n",
       "    </tr>\n",
       "    <tr>\n",
       "      <th>371523</th>\n",
       "      <td>2016-03-14 17:48:27</td>\n",
       "      <td>Suche_t4___vito_ab_6_sitze</td>\n",
       "      <td>privat</td>\n",
       "      <td>Angebot</td>\n",
       "      <td>2200</td>\n",
       "      <td>test</td>\n",
       "      <td>NaN</td>\n",
       "      <td>2005</td>\n",
       "      <td>NaN</td>\n",
       "      <td>0</td>\n",
       "      <td>NaN</td>\n",
       "      <td>20000</td>\n",
       "      <td>1</td>\n",
       "      <td>NaN</td>\n",
       "      <td>sonstige_autos</td>\n",
       "      <td>NaN</td>\n",
       "      <td>2016-03-14 00:00:00</td>\n",
       "      <td>0</td>\n",
       "      <td>39576</td>\n",
       "      <td>2016-04-06 00:46:52</td>\n",
       "    </tr>\n",
       "    <tr>\n",
       "      <th>371524</th>\n",
       "      <td>2016-03-05 19:56:21</td>\n",
       "      <td>Smart_smart_leistungssteigerung_100ps</td>\n",
       "      <td>privat</td>\n",
       "      <td>Angebot</td>\n",
       "      <td>1199</td>\n",
       "      <td>test</td>\n",
       "      <td>cabrio</td>\n",
       "      <td>2000</td>\n",
       "      <td>automatik</td>\n",
       "      <td>101</td>\n",
       "      <td>fortwo</td>\n",
       "      <td>125000</td>\n",
       "      <td>3</td>\n",
       "      <td>benzin</td>\n",
       "      <td>smart</td>\n",
       "      <td>nein</td>\n",
       "      <td>2016-03-05 00:00:00</td>\n",
       "      <td>0</td>\n",
       "      <td>26135</td>\n",
       "      <td>2016-03-11 18:17:12</td>\n",
       "    </tr>\n",
       "    <tr>\n",
       "      <th>371525</th>\n",
       "      <td>2016-03-19 18:57:12</td>\n",
       "      <td>Volkswagen_Multivan_T4_TDI_7DC_UY2</td>\n",
       "      <td>privat</td>\n",
       "      <td>Angebot</td>\n",
       "      <td>9200</td>\n",
       "      <td>test</td>\n",
       "      <td>bus</td>\n",
       "      <td>1996</td>\n",
       "      <td>manuell</td>\n",
       "      <td>102</td>\n",
       "      <td>transporter</td>\n",
       "      <td>150000</td>\n",
       "      <td>3</td>\n",
       "      <td>diesel</td>\n",
       "      <td>volkswagen</td>\n",
       "      <td>nein</td>\n",
       "      <td>2016-03-19 00:00:00</td>\n",
       "      <td>0</td>\n",
       "      <td>87439</td>\n",
       "      <td>2016-04-07 07:15:26</td>\n",
       "    </tr>\n",
       "    <tr>\n",
       "      <th>371526</th>\n",
       "      <td>2016-03-20 19:41:08</td>\n",
       "      <td>VW_Golf_Kombi_1_9l_TDI</td>\n",
       "      <td>privat</td>\n",
       "      <td>Angebot</td>\n",
       "      <td>3400</td>\n",
       "      <td>test</td>\n",
       "      <td>kombi</td>\n",
       "      <td>2002</td>\n",
       "      <td>manuell</td>\n",
       "      <td>100</td>\n",
       "      <td>golf</td>\n",
       "      <td>150000</td>\n",
       "      <td>6</td>\n",
       "      <td>diesel</td>\n",
       "      <td>volkswagen</td>\n",
       "      <td>NaN</td>\n",
       "      <td>2016-03-20 00:00:00</td>\n",
       "      <td>0</td>\n",
       "      <td>40764</td>\n",
       "      <td>2016-03-24 12:45:21</td>\n",
       "    </tr>\n",
       "    <tr>\n",
       "      <th>371527</th>\n",
       "      <td>2016-03-07 19:39:19</td>\n",
       "      <td>BMW_M135i_vollausgestattet_NP_52.720____Euro</td>\n",
       "      <td>privat</td>\n",
       "      <td>Angebot</td>\n",
       "      <td>28990</td>\n",
       "      <td>control</td>\n",
       "      <td>limousine</td>\n",
       "      <td>2013</td>\n",
       "      <td>manuell</td>\n",
       "      <td>320</td>\n",
       "      <td>m_reihe</td>\n",
       "      <td>50000</td>\n",
       "      <td>8</td>\n",
       "      <td>benzin</td>\n",
       "      <td>bmw</td>\n",
       "      <td>nein</td>\n",
       "      <td>2016-03-07 00:00:00</td>\n",
       "      <td>0</td>\n",
       "      <td>73326</td>\n",
       "      <td>2016-03-22 03:17:10</td>\n",
       "    </tr>\n",
       "  </tbody>\n",
       "</table>\n",
       "<p>371528 rows × 20 columns</p>\n",
       "</div>"
      ],
      "text/plain": [
       "                dateCrawled                                          name  \\\n",
       "0       2016-03-24 11:52:17                                    Golf_3_1.6   \n",
       "1       2016-03-24 10:58:45                          A5_Sportback_2.7_Tdi   \n",
       "2       2016-03-14 12:52:21                Jeep_Grand_Cherokee_\"Overland\"   \n",
       "3       2016-03-17 16:54:04                            GOLF_4_1_4__3TÜRER   \n",
       "4       2016-03-31 17:25:20                Skoda_Fabia_1.4_TDI_PD_Classic   \n",
       "...                     ...                                           ...   \n",
       "371523  2016-03-14 17:48:27                    Suche_t4___vito_ab_6_sitze   \n",
       "371524  2016-03-05 19:56:21         Smart_smart_leistungssteigerung_100ps   \n",
       "371525  2016-03-19 18:57:12            Volkswagen_Multivan_T4_TDI_7DC_UY2   \n",
       "371526  2016-03-20 19:41:08                        VW_Golf_Kombi_1_9l_TDI   \n",
       "371527  2016-03-07 19:39:19  BMW_M135i_vollausgestattet_NP_52.720____Euro   \n",
       "\n",
       "        seller offerType  price   abtest vehicleType  yearOfRegistration  \\\n",
       "0       privat   Angebot    480     test         NaN                1993   \n",
       "1       privat   Angebot  18300     test       coupe                2011   \n",
       "2       privat   Angebot   9800     test         suv                2004   \n",
       "3       privat   Angebot   1500     test  kleinwagen                2001   \n",
       "4       privat   Angebot   3600     test  kleinwagen                2008   \n",
       "...        ...       ...    ...      ...         ...                 ...   \n",
       "371523  privat   Angebot   2200     test         NaN                2005   \n",
       "371524  privat   Angebot   1199     test      cabrio                2000   \n",
       "371525  privat   Angebot   9200     test         bus                1996   \n",
       "371526  privat   Angebot   3400     test       kombi                2002   \n",
       "371527  privat   Angebot  28990  control   limousine                2013   \n",
       "\n",
       "          gearbox  powerPS        model  kilometer  monthOfRegistration  \\\n",
       "0         manuell        0         golf     150000                    0   \n",
       "1         manuell      190          NaN     125000                    5   \n",
       "2       automatik      163        grand     125000                    8   \n",
       "3         manuell       75         golf     150000                    6   \n",
       "4         manuell       69        fabia      90000                    7   \n",
       "...           ...      ...          ...        ...                  ...   \n",
       "371523        NaN        0          NaN      20000                    1   \n",
       "371524  automatik      101       fortwo     125000                    3   \n",
       "371525    manuell      102  transporter     150000                    3   \n",
       "371526    manuell      100         golf     150000                    6   \n",
       "371527    manuell      320      m_reihe      50000                    8   \n",
       "\n",
       "       fuelType           brand notRepairedDamage          dateCreated  \\\n",
       "0        benzin      volkswagen               NaN  2016-03-24 00:00:00   \n",
       "1        diesel            audi                ja  2016-03-24 00:00:00   \n",
       "2        diesel            jeep               NaN  2016-03-14 00:00:00   \n",
       "3        benzin      volkswagen              nein  2016-03-17 00:00:00   \n",
       "4        diesel           skoda              nein  2016-03-31 00:00:00   \n",
       "...         ...             ...               ...                  ...   \n",
       "371523      NaN  sonstige_autos               NaN  2016-03-14 00:00:00   \n",
       "371524   benzin           smart              nein  2016-03-05 00:00:00   \n",
       "371525   diesel      volkswagen              nein  2016-03-19 00:00:00   \n",
       "371526   diesel      volkswagen               NaN  2016-03-20 00:00:00   \n",
       "371527   benzin             bmw              nein  2016-03-07 00:00:00   \n",
       "\n",
       "        nrOfPictures  postalCode             lastSeen  \n",
       "0                  0       70435  2016-04-07 03:16:57  \n",
       "1                  0       66954  2016-04-07 01:46:50  \n",
       "2                  0       90480  2016-04-05 12:47:46  \n",
       "3                  0       91074  2016-03-17 17:40:17  \n",
       "4                  0       60437  2016-04-06 10:17:21  \n",
       "...              ...         ...                  ...  \n",
       "371523             0       39576  2016-04-06 00:46:52  \n",
       "371524             0       26135  2016-03-11 18:17:12  \n",
       "371525             0       87439  2016-04-07 07:15:26  \n",
       "371526             0       40764  2016-03-24 12:45:21  \n",
       "371527             0       73326  2016-03-22 03:17:10  \n",
       "\n",
       "[371528 rows x 20 columns]"
      ]
     },
     "execution_count": 2,
     "metadata": {},
     "output_type": "execute_result"
    }
   ],
   "source": [
    "df=pd.read_csv(\"Data/autos.csv\", encoding='latin1')\n",
    "df"
   ]
  },
  {
   "cell_type": "markdown",
   "id": "92f8a9fc",
   "metadata": {},
   "source": [
    "# Cleaning the dataset"
   ]
  },
  {
   "cell_type": "code",
   "execution_count": 3,
   "id": "0860c68e",
   "metadata": {},
   "outputs": [],
   "source": [
    "df.drop(columns=[\"dateCrawled\",\"name\",\"nrOfPictures\",\"postalCode\",\"lastSeen\",\"dateCreated\",\"seller\",\"offerType\",\"model\"],inplace=True)\n",
    "\n"
   ]
  },
  {
   "cell_type": "code",
   "execution_count": 4,
   "id": "271334a4",
   "metadata": {},
   "outputs": [
    {
     "data": {
      "text/plain": [
       "price                      0\n",
       "abtest                     0\n",
       "vehicleType            37869\n",
       "yearOfRegistration         0\n",
       "gearbox                20209\n",
       "powerPS                    0\n",
       "kilometer                  0\n",
       "monthOfRegistration        0\n",
       "fuelType               33386\n",
       "brand                      0\n",
       "notRepairedDamage      72060\n",
       "dtype: int64"
      ]
     },
     "execution_count": 4,
     "metadata": {},
     "output_type": "execute_result"
    }
   ],
   "source": [
    "#to find the missing values in the columns\n",
    "df.isna().sum()"
   ]
  },
  {
   "cell_type": "code",
   "execution_count": 5,
   "id": "88850d52",
   "metadata": {},
   "outputs": [],
   "source": [
    "#replacing the missing values\n",
    "df[\"vehicleType\"].fillna(df[\"vehicleType\"].mode()[0],inplace=True)\n",
    "df[\"gearbox\"].fillna(df[\"gearbox\"].mode()[0],inplace=True)\n",
    "df[\"fuelType\"].fillna(df[\"fuelType\"].mode()[0],inplace=True)\n",
    "df[\"notRepairedDamage\"].fillna(df[\"notRepairedDamage\"].mode()[0],inplace=True)"
   ]
  },
  {
   "cell_type": "code",
   "execution_count": 6,
   "id": "6b1c210c",
   "metadata": {
    "scrolled": true
   },
   "outputs": [
    {
     "data": {
      "text/plain": [
       "price                  0\n",
       "abtest                 0\n",
       "vehicleType            0\n",
       "yearOfRegistration     0\n",
       "gearbox                0\n",
       "powerPS                0\n",
       "kilometer              0\n",
       "monthOfRegistration    0\n",
       "fuelType               0\n",
       "brand                  0\n",
       "notRepairedDamage      0\n",
       "dtype: int64"
      ]
     },
     "execution_count": 6,
     "metadata": {},
     "output_type": "execute_result"
    }
   ],
   "source": [
    "df.isna().sum()\n"
   ]
  },
  {
   "cell_type": "markdown",
   "id": "42508926",
   "metadata": {},
   "source": [
    "# removing the duplicated values"
   ]
  },
  {
   "cell_type": "code",
   "execution_count": 7,
   "id": "0aac6043",
   "metadata": {},
   "outputs": [
    {
     "data": {
      "text/plain": [
       "24211"
      ]
     },
     "execution_count": 7,
     "metadata": {},
     "output_type": "execute_result"
    }
   ],
   "source": [
    "df.duplicated().sum()"
   ]
  },
  {
   "cell_type": "code",
   "execution_count": 8,
   "id": "2a10c5ed",
   "metadata": {},
   "outputs": [],
   "source": [
    "df=df.drop_duplicates()\n"
   ]
  },
  {
   "cell_type": "code",
   "execution_count": 9,
   "id": "f4cfacab",
   "metadata": {},
   "outputs": [
    {
     "data": {
      "text/plain": [
       "0"
      ]
     },
     "execution_count": 9,
     "metadata": {},
     "output_type": "execute_result"
    }
   ],
   "source": [
    "df.duplicated().sum()\n"
   ]
  },
  {
   "cell_type": "markdown",
   "id": "b7ac01ef",
   "metadata": {},
   "source": [
    "# label Encoding"
   ]
  },
  {
   "cell_type": "code",
   "execution_count": 10,
   "id": "763f560a",
   "metadata": {},
   "outputs": [
    {
     "name": "stdout",
     "output_type": "stream",
     "text": [
      "<class 'pandas.core.frame.DataFrame'>\n",
      "Int64Index: 347317 entries, 0 to 371527\n",
      "Data columns (total 11 columns):\n",
      " #   Column               Non-Null Count   Dtype \n",
      "---  ------               --------------   ----- \n",
      " 0   price                347317 non-null  int64 \n",
      " 1   abtest               347317 non-null  object\n",
      " 2   vehicleType          347317 non-null  object\n",
      " 3   yearOfRegistration   347317 non-null  int64 \n",
      " 4   gearbox              347317 non-null  object\n",
      " 5   powerPS              347317 non-null  int64 \n",
      " 6   kilometer            347317 non-null  int64 \n",
      " 7   monthOfRegistration  347317 non-null  int64 \n",
      " 8   fuelType             347317 non-null  object\n",
      " 9   brand                347317 non-null  object\n",
      " 10  notRepairedDamage    347317 non-null  object\n",
      "dtypes: int64(5), object(6)\n",
      "memory usage: 31.8+ MB\n"
     ]
    }
   ],
   "source": [
    "df.info()"
   ]
  },
  {
   "cell_type": "code",
   "execution_count": 11,
   "id": "f767640a",
   "metadata": {
    "scrolled": true
   },
   "outputs": [],
   "source": [
    "from sklearn.preprocessing import LabelEncoder\n",
    "le = LabelEncoder()\n",
    "df['abtest'] = le.fit_transform(df['abtest'])\n",
    "df['vehicleType'] = le.fit_transform(df['vehicleType'])\n",
    "df['gearbox'] = le.fit_transform(df['gearbox'])\n",
    "df['fuelType'] = le.fit_transform(df['fuelType'])\n",
    "df['brand'] = le.fit_transform(df['brand'])\n",
    "df['notRepairedDamage'] = le.fit_transform(df['notRepairedDamage'])"
   ]
  },
  {
   "cell_type": "code",
   "execution_count": 12,
   "id": "68f02e06",
   "metadata": {},
   "outputs": [
    {
     "name": "stdout",
     "output_type": "stream",
     "text": [
      "<class 'pandas.core.frame.DataFrame'>\n",
      "Int64Index: 347317 entries, 0 to 371527\n",
      "Data columns (total 11 columns):\n",
      " #   Column               Non-Null Count   Dtype\n",
      "---  ------               --------------   -----\n",
      " 0   price                347317 non-null  int64\n",
      " 1   abtest               347317 non-null  int32\n",
      " 2   vehicleType          347317 non-null  int32\n",
      " 3   yearOfRegistration   347317 non-null  int64\n",
      " 4   gearbox              347317 non-null  int32\n",
      " 5   powerPS              347317 non-null  int64\n",
      " 6   kilometer            347317 non-null  int64\n",
      " 7   monthOfRegistration  347317 non-null  int64\n",
      " 8   fuelType             347317 non-null  int32\n",
      " 9   brand                347317 non-null  int32\n",
      " 10  notRepairedDamage    347317 non-null  int32\n",
      "dtypes: int32(6), int64(5)\n",
      "memory usage: 23.8 MB\n"
     ]
    }
   ],
   "source": [
    "df.info()"
   ]
  },
  {
   "cell_type": "markdown",
   "id": "35338e5d",
   "metadata": {},
   "source": [
    "# outliers"
   ]
  },
  {
   "cell_type": "code",
   "execution_count": 13,
   "id": "73d1361d",
   "metadata": {
    "scrolled": true
   },
   "outputs": [
    {
     "data": {
      "text/plain": [
       "<AxesSubplot:xlabel='price'>"
      ]
     },
     "execution_count": 13,
     "metadata": {},
     "output_type": "execute_result"
    },
    {
     "data": {
      "image/png": "[encoded data removed]",
      "text/plain": [
       "<Figure size 640x480 with 1 Axes>"
      ]
     },
     "metadata": {},
     "output_type": "display_data"
    }
   ],
   "source": [
    "#checking outliers in the  price column\n",
    "\n",
    "sns.boxplot(x=df[\"price\"])\n"
   ]
  },
  {
   "cell_type": "code",
   "execution_count": 14,
   "id": "8118d3a5",
   "metadata": {},
   "outputs": [],
   "source": [
    "#calculating IQR"
   ]
  },
  {
   "cell_type": "code",
   "execution_count": 15,
   "id": "657ae6e6",
   "metadata": {},
   "outputs": [
    {
     "data": {
      "text/html": [
       "<div>\n",
       "<style scoped>\n",
       "    .dataframe tbody tr th:only-of-type {\n",
       "        vertical-align: middle;\n",
       "    }\n",
       "\n",
       "    .dataframe tbody tr th {\n",
       "        vertical-align: top;\n",
       "    }\n",
       "\n",
       "    .dataframe thead th {\n",
       "        text-align: right;\n",
       "    }\n",
       "</style>\n",
       "<table border=\"1\" class=\"dataframe\">\n",
       "  <thead>\n",
       "    <tr style=\"text-align: right;\">\n",
       "      <th></th>\n",
       "      <th>price</th>\n",
       "      <th>abtest</th>\n",
       "      <th>vehicleType</th>\n",
       "      <th>yearOfRegistration</th>\n",
       "      <th>gearbox</th>\n",
       "      <th>powerPS</th>\n",
       "      <th>kilometer</th>\n",
       "      <th>monthOfRegistration</th>\n",
       "      <th>fuelType</th>\n",
       "      <th>brand</th>\n",
       "      <th>notRepairedDamage</th>\n",
       "    </tr>\n",
       "  </thead>\n",
       "  <tbody>\n",
       "    <tr>\n",
       "      <th>0.75</th>\n",
       "      <td>7250.0</td>\n",
       "      <td>1.0</td>\n",
       "      <td>6.0</td>\n",
       "      <td>2008.0</td>\n",
       "      <td>1.0</td>\n",
       "      <td>150.0</td>\n",
       "      <td>150000.0</td>\n",
       "      <td>9.0</td>\n",
       "      <td>3.0</td>\n",
       "      <td>33.0</td>\n",
       "      <td>1.0</td>\n",
       "    </tr>\n",
       "    <tr>\n",
       "      <th>0.25</th>\n",
       "      <td>1150.0</td>\n",
       "      <td>0.0</td>\n",
       "      <td>4.0</td>\n",
       "      <td>1999.0</td>\n",
       "      <td>1.0</td>\n",
       "      <td>71.0</td>\n",
       "      <td>100000.0</td>\n",
       "      <td>3.0</td>\n",
       "      <td>1.0</td>\n",
       "      <td>9.0</td>\n",
       "      <td>1.0</td>\n",
       "    </tr>\n",
       "  </tbody>\n",
       "</table>\n",
       "</div>"
      ],
      "text/plain": [
       "       price  abtest  vehicleType  yearOfRegistration  gearbox  powerPS  \\\n",
       "0.75  7250.0     1.0          6.0              2008.0      1.0    150.0   \n",
       "0.25  1150.0     0.0          4.0              1999.0      1.0     71.0   \n",
       "\n",
       "      kilometer  monthOfRegistration  fuelType  brand  notRepairedDamage  \n",
       "0.75   150000.0                  9.0       3.0   33.0                1.0  \n",
       "0.25   100000.0                  3.0       1.0    9.0                1.0  "
      ]
     },
     "execution_count": 15,
     "metadata": {},
     "output_type": "execute_result"
    }
   ],
   "source": [
    "i=df.quantile(q=[0.75,0.25])\n",
    "i"
   ]
  },
  {
   "cell_type": "code",
   "execution_count": 16,
   "id": "0c5832ad",
   "metadata": {
    "scrolled": true
   },
   "outputs": [
    {
     "data": {
      "text/plain": [
       "price                   6100.0\n",
       "abtest                     1.0\n",
       "vehicleType                2.0\n",
       "yearOfRegistration         9.0\n",
       "gearbox                    0.0\n",
       "powerPS                   79.0\n",
       "kilometer              50000.0\n",
       "monthOfRegistration        6.0\n",
       "fuelType                   2.0\n",
       "brand                     24.0\n",
       "notRepairedDamage          0.0\n",
       "dtype: float64"
      ]
     },
     "execution_count": 16,
     "metadata": {},
     "output_type": "execute_result"
    }
   ],
   "source": [
    "IQR=i.iloc[0]-i.iloc[1]\n",
    "IQR"
   ]
  },
  {
   "cell_type": "code",
   "execution_count": 17,
   "id": "010fe3c1",
   "metadata": {},
   "outputs": [
    {
     "data": {
      "text/plain": [
       "0.75    7250.0\n",
       "0.25    1150.0\n",
       "Name: price, dtype: float64"
      ]
     },
     "execution_count": 17,
     "metadata": {},
     "output_type": "execute_result"
    }
   ],
   "source": [
    "#calculating the outliers in the price column\n",
    "\n",
    "a=df[\"price\"].quantile(q=[0.75,0.25])\n",
    "a"
   ]
  },
  {
   "cell_type": "code",
   "execution_count": 18,
   "id": "fd3aaddb",
   "metadata": {},
   "outputs": [
    {
     "data": {
      "text/plain": [
       "6100.0"
      ]
     },
     "execution_count": 18,
     "metadata": {},
     "output_type": "execute_result"
    }
   ],
   "source": [
    "IQR=a.iloc[0]-a.iloc[1]\n",
    "IQR\n"
   ]
  },
  {
   "cell_type": "code",
   "execution_count": 19,
   "id": "d260d0d9",
   "metadata": {},
   "outputs": [],
   "source": [
    "upper_extreme=a.iloc[0]+(1.5*IQR)\n",
    "lower_extreme=a.iloc[1]-(1.5*IQR)\n"
   ]
  },
  {
   "cell_type": "code",
   "execution_count": 20,
   "id": "3ac916b2",
   "metadata": {},
   "outputs": [
    {
     "data": {
      "text/plain": [
       "16400.0"
      ]
     },
     "execution_count": 20,
     "metadata": {},
     "output_type": "execute_result"
    }
   ],
   "source": [
    "upper_extreme\n"
   ]
  },
  {
   "cell_type": "code",
   "execution_count": 21,
   "id": "a3a59c10",
   "metadata": {},
   "outputs": [
    {
     "data": {
      "text/plain": [
       "-8000.0"
      ]
     },
     "execution_count": 21,
     "metadata": {},
     "output_type": "execute_result"
    }
   ],
   "source": [
    "lower_extreme"
   ]
  },
  {
   "cell_type": "code",
   "execution_count": 22,
   "id": "3bf75aa9",
   "metadata": {},
   "outputs": [],
   "source": [
    "a = df[df['price'] > 20000].index\n",
    "df.drop(a, inplace = True)"
   ]
  },
  {
   "cell_type": "code",
   "execution_count": 23,
   "id": "ccf94526",
   "metadata": {},
   "outputs": [
    {
     "data": {
      "text/plain": [
       "<AxesSubplot:xlabel='price'>"
      ]
     },
     "execution_count": 23,
     "metadata": {},
     "output_type": "execute_result"
    },
    {
     "data": {
      "image/png": "[encoded data removed]",
      "text/plain": [
       "<Figure size 640x480 with 1 Axes>"
      ]
     },
     "metadata": {},
     "output_type": "display_data"
    }
   ],
   "source": [
    "sns.boxplot(x=df[\"price\"])"
   ]
  },
  {
   "cell_type": "code",
   "execution_count": 24,
   "id": "e45082b5",
   "metadata": {},
   "outputs": [
    {
     "data": {
      "text/plain": [
       "0.75    2008.0\n",
       "0.25    1999.0\n",
       "Name: yearOfRegistration, dtype: float64"
      ]
     },
     "execution_count": 24,
     "metadata": {},
     "output_type": "execute_result"
    }
   ],
   "source": [
    "b=df[\"yearOfRegistration\"].quantile(q=[0.75,0.25])\n",
    "b"
   ]
  },
  {
   "cell_type": "code",
   "execution_count": 25,
   "id": "583c60f7",
   "metadata": {
    "scrolled": false
   },
   "outputs": [
    {
     "data": {
      "text/plain": [
       "9.0"
      ]
     },
     "execution_count": 25,
     "metadata": {},
     "output_type": "execute_result"
    }
   ],
   "source": [
    "IQR=b.iloc[0]-b.iloc[1]\n",
    "IQR"
   ]
  },
  {
   "cell_type": "code",
   "execution_count": 26,
   "id": "9a2d04d8",
   "metadata": {},
   "outputs": [],
   "source": [
    "upper_ext=b.iloc[0]+(1.5*IQR)\n",
    "lower_ext=b.iloc[1]-(1.5*IQR)"
   ]
  },
  {
   "cell_type": "code",
   "execution_count": 27,
   "id": "22023e5f",
   "metadata": {},
   "outputs": [
    {
     "data": {
      "text/plain": [
       "2021.5"
      ]
     },
     "execution_count": 27,
     "metadata": {},
     "output_type": "execute_result"
    }
   ],
   "source": [
    "upper_ext"
   ]
  },
  {
   "cell_type": "code",
   "execution_count": 28,
   "id": "ed92c036",
   "metadata": {},
   "outputs": [
    {
     "data": {
      "text/plain": [
       "1985.5"
      ]
     },
     "execution_count": 28,
     "metadata": {},
     "output_type": "execute_result"
    }
   ],
   "source": [
    "lower_ext"
   ]
  },
  {
   "cell_type": "code",
   "execution_count": 29,
   "id": "ae1745ab",
   "metadata": {},
   "outputs": [],
   "source": [
    "#removing the outliers\n",
    "\n",
    "b=df[df[\"yearOfRegistration\"]>2017].index\n",
    "df.drop(b,inplace=True)\n",
    "\n",
    "b=df[df[\"yearOfRegistration\"]<1980].index\n",
    "df.drop(b,inplace=True)\n"
   ]
  },
  {
   "cell_type": "code",
   "execution_count": 30,
   "id": "0ceab92a",
   "metadata": {
    "scrolled": true
   },
   "outputs": [
    {
     "data": {
      "text/plain": [
       "<AxesSubplot:xlabel='yearOfRegistration'>"
      ]
     },
     "execution_count": 30,
     "metadata": {},
     "output_type": "execute_result"
    },
    {
     "data": {
      "image/png": "[encoded data removed]",
      "text/plain": [
       "<Figure size 640x480 with 1 Axes>"
      ]
     },
     "metadata": {},
     "output_type": "display_data"
    }
   ],
   "source": [
    "sns.boxplot(x=df[\"yearOfRegistration\"])"
   ]
  },
  {
   "cell_type": "code",
   "execution_count": 31,
   "id": "1f0213f9",
   "metadata": {},
   "outputs": [
    {
     "data": {
      "text/plain": [
       "<AxesSubplot:xlabel='powerPS'>"
      ]
     },
     "execution_count": 31,
     "metadata": {},
     "output_type": "execute_result"
    },
    {
     "data": {
      "image/png": "[encoded data removed]",
      "text/plain": [
       "<Figure size 640x480 with 1 Axes>"
      ]
     },
     "metadata": {},
     "output_type": "display_data"
    }
   ],
   "source": [
    "sns.boxplot(x=df[\"powerPS\"])"
   ]
  },
  {
   "cell_type": "code",
   "execution_count": 32,
   "id": "67dbf5a1",
   "metadata": {},
   "outputs": [],
   "source": [
    "c=df[\"powerPS\"].quantile(q=[0.75,0.25])"
   ]
  },
  {
   "cell_type": "code",
   "execution_count": 33,
   "id": "01a9732e",
   "metadata": {},
   "outputs": [
    {
     "data": {
      "text/plain": [
       "74.0"
      ]
     },
     "execution_count": 33,
     "metadata": {},
     "output_type": "execute_result"
    }
   ],
   "source": [
    "IQR=c.iloc[0]-c.iloc[1]\n",
    "IQR"
   ]
  },
  {
   "cell_type": "code",
   "execution_count": 34,
   "id": "5c7081bf",
   "metadata": {},
   "outputs": [],
   "source": [
    "upper_ext=c.iloc[0]+(1.5*IQR)\n",
    "lower_ext=c.iloc[1]-(1.5*IQR)"
   ]
  },
  {
   "cell_type": "code",
   "execution_count": 35,
   "id": "6c41a883",
   "metadata": {},
   "outputs": [
    {
     "data": {
      "text/plain": [
       "254.0"
      ]
     },
     "execution_count": 35,
     "metadata": {},
     "output_type": "execute_result"
    }
   ],
   "source": [
    "upper_ext"
   ]
  },
  {
   "cell_type": "code",
   "execution_count": 36,
   "id": "1b09218a",
   "metadata": {},
   "outputs": [
    {
     "data": {
      "text/plain": [
       "-42.0"
      ]
     },
     "execution_count": 36,
     "metadata": {},
     "output_type": "execute_result"
    }
   ],
   "source": [
    "lower_ext"
   ]
  },
  {
   "cell_type": "code",
   "execution_count": 37,
   "id": "ac03d42a",
   "metadata": {},
   "outputs": [],
   "source": [
    "c=df[df[\"powerPS\"]>300].index\n",
    "df.drop(c,inplace=True)\n",
    "\n",
    "c=df[df[\"powerPS\"]<30].index\n",
    "df.drop(c,inplace=True)"
   ]
  },
  {
   "cell_type": "code",
   "execution_count": 38,
   "id": "1599627f",
   "metadata": {
    "scrolled": true
   },
   "outputs": [
    {
     "data": {
      "text/plain": [
       "<AxesSubplot:xlabel='powerPS'>"
      ]
     },
     "execution_count": 38,
     "metadata": {},
     "output_type": "execute_result"
    },
    {
     "data": {
      "image/png": "[encoded data removed]",
      "text/plain": [
       "<Figure size 640x480 with 1 Axes>"
      ]
     },
     "metadata": {},
     "output_type": "display_data"
    }
   ],
   "source": [
    "sns.boxplot(x=df[\"powerPS\"])"
   ]
  },
  {
   "cell_type": "markdown",
   "id": "cb0c736b",
   "metadata": {},
   "source": [
    "# descriptive stastics"
   ]
  },
  {
   "cell_type": "code",
   "execution_count": 39,
   "id": "389a67d9",
   "metadata": {},
   "outputs": [
    {
     "data": {
      "text/plain": [
       "price                  3576\n",
       "abtest                    2\n",
       "vehicleType               8\n",
       "yearOfRegistration       38\n",
       "gearbox                   2\n",
       "powerPS                 269\n",
       "kilometer                13\n",
       "monthOfRegistration      13\n",
       "fuelType                  7\n",
       "brand                    40\n",
       "notRepairedDamage         2\n",
       "dtype: int64"
      ]
     },
     "execution_count": 39,
     "metadata": {},
     "output_type": "execute_result"
    }
   ],
   "source": [
    "df.nunique()"
   ]
  },
  {
   "cell_type": "code",
   "execution_count": 40,
   "id": "55be1b21",
   "metadata": {},
   "outputs": [
    {
     "data": {
      "text/html": [
       "<div>\n",
       "<style scoped>\n",
       "    .dataframe tbody tr th:only-of-type {\n",
       "        vertical-align: middle;\n",
       "    }\n",
       "\n",
       "    .dataframe tbody tr th {\n",
       "        vertical-align: top;\n",
       "    }\n",
       "\n",
       "    .dataframe thead th {\n",
       "        text-align: right;\n",
       "    }\n",
       "</style>\n",
       "<table border=\"1\" class=\"dataframe\">\n",
       "  <thead>\n",
       "    <tr style=\"text-align: right;\">\n",
       "      <th></th>\n",
       "      <th>price</th>\n",
       "      <th>abtest</th>\n",
       "      <th>vehicleType</th>\n",
       "      <th>yearOfRegistration</th>\n",
       "      <th>gearbox</th>\n",
       "      <th>powerPS</th>\n",
       "      <th>kilometer</th>\n",
       "      <th>monthOfRegistration</th>\n",
       "      <th>fuelType</th>\n",
       "      <th>brand</th>\n",
       "      <th>notRepairedDamage</th>\n",
       "    </tr>\n",
       "  </thead>\n",
       "  <tbody>\n",
       "    <tr>\n",
       "      <th>count</th>\n",
       "      <td>285423.000000</td>\n",
       "      <td>285423.000000</td>\n",
       "      <td>285423.000000</td>\n",
       "      <td>285423.000000</td>\n",
       "      <td>285423.000000</td>\n",
       "      <td>285423.000000</td>\n",
       "      <td>285423.000000</td>\n",
       "      <td>285423.000000</td>\n",
       "      <td>285423.000000</td>\n",
       "      <td>285423.000000</td>\n",
       "      <td>285423.000000</td>\n",
       "    </tr>\n",
       "    <tr>\n",
       "      <th>mean</th>\n",
       "      <td>4624.353559</td>\n",
       "      <td>0.517124</td>\n",
       "      <td>4.504917</td>\n",
       "      <td>2003.351482</td>\n",
       "      <td>0.810226</td>\n",
       "      <td>118.350897</td>\n",
       "      <td>128767.338301</td>\n",
       "      <td>5.937465</td>\n",
       "      <td>1.665854</td>\n",
       "      <td>20.754666</td>\n",
       "      <td>0.896399</td>\n",
       "    </tr>\n",
       "    <tr>\n",
       "      <th>std</th>\n",
       "      <td>4529.805305</td>\n",
       "      <td>0.499708</td>\n",
       "      <td>1.673022</td>\n",
       "      <td>6.284378</td>\n",
       "      <td>0.392123</td>\n",
       "      <td>48.447493</td>\n",
       "      <td>36493.899565</td>\n",
       "      <td>3.613399</td>\n",
       "      <td>1.058651</td>\n",
       "      <td>13.354361</td>\n",
       "      <td>0.304742</td>\n",
       "    </tr>\n",
       "    <tr>\n",
       "      <th>min</th>\n",
       "      <td>0.000000</td>\n",
       "      <td>0.000000</td>\n",
       "      <td>0.000000</td>\n",
       "      <td>1980.000000</td>\n",
       "      <td>0.000000</td>\n",
       "      <td>30.000000</td>\n",
       "      <td>5000.000000</td>\n",
       "      <td>0.000000</td>\n",
       "      <td>0.000000</td>\n",
       "      <td>0.000000</td>\n",
       "      <td>0.000000</td>\n",
       "    </tr>\n",
       "    <tr>\n",
       "      <th>25%</th>\n",
       "      <td>1200.000000</td>\n",
       "      <td>0.000000</td>\n",
       "      <td>4.000000</td>\n",
       "      <td>1999.000000</td>\n",
       "      <td>1.000000</td>\n",
       "      <td>75.000000</td>\n",
       "      <td>125000.000000</td>\n",
       "      <td>3.000000</td>\n",
       "      <td>1.000000</td>\n",
       "      <td>9.000000</td>\n",
       "      <td>1.000000</td>\n",
       "    </tr>\n",
       "    <tr>\n",
       "      <th>50%</th>\n",
       "      <td>2990.000000</td>\n",
       "      <td>1.000000</td>\n",
       "      <td>5.000000</td>\n",
       "      <td>2003.000000</td>\n",
       "      <td>1.000000</td>\n",
       "      <td>110.000000</td>\n",
       "      <td>150000.000000</td>\n",
       "      <td>6.000000</td>\n",
       "      <td>1.000000</td>\n",
       "      <td>24.000000</td>\n",
       "      <td>1.000000</td>\n",
       "    </tr>\n",
       "    <tr>\n",
       "      <th>75%</th>\n",
       "      <td>6700.000000</td>\n",
       "      <td>1.000000</td>\n",
       "      <td>6.000000</td>\n",
       "      <td>2008.000000</td>\n",
       "      <td>1.000000</td>\n",
       "      <td>147.000000</td>\n",
       "      <td>150000.000000</td>\n",
       "      <td>9.000000</td>\n",
       "      <td>3.000000</td>\n",
       "      <td>34.000000</td>\n",
       "      <td>1.000000</td>\n",
       "    </tr>\n",
       "    <tr>\n",
       "      <th>max</th>\n",
       "      <td>20000.000000</td>\n",
       "      <td>1.000000</td>\n",
       "      <td>7.000000</td>\n",
       "      <td>2017.000000</td>\n",
       "      <td>1.000000</td>\n",
       "      <td>300.000000</td>\n",
       "      <td>150000.000000</td>\n",
       "      <td>12.000000</td>\n",
       "      <td>6.000000</td>\n",
       "      <td>39.000000</td>\n",
       "      <td>1.000000</td>\n",
       "    </tr>\n",
       "  </tbody>\n",
       "</table>\n",
       "</div>"
      ],
      "text/plain": [
       "               price         abtest    vehicleType  yearOfRegistration  \\\n",
       "count  285423.000000  285423.000000  285423.000000       285423.000000   \n",
       "mean     4624.353559       0.517124       4.504917         2003.351482   \n",
       "std      4529.805305       0.499708       1.673022            6.284378   \n",
       "min         0.000000       0.000000       0.000000         1980.000000   \n",
       "25%      1200.000000       0.000000       4.000000         1999.000000   \n",
       "50%      2990.000000       1.000000       5.000000         2003.000000   \n",
       "75%      6700.000000       1.000000       6.000000         2008.000000   \n",
       "max     20000.000000       1.000000       7.000000         2017.000000   \n",
       "\n",
       "             gearbox        powerPS      kilometer  monthOfRegistration  \\\n",
       "count  285423.000000  285423.000000  285423.000000        285423.000000   \n",
       "mean        0.810226     118.350897  128767.338301             5.937465   \n",
       "std         0.392123      48.447493   36493.899565             3.613399   \n",
       "min         0.000000      30.000000    5000.000000             0.000000   \n",
       "25%         1.000000      75.000000  125000.000000             3.000000   \n",
       "50%         1.000000     110.000000  150000.000000             6.000000   \n",
       "75%         1.000000     147.000000  150000.000000             9.000000   \n",
       "max         1.000000     300.000000  150000.000000            12.000000   \n",
       "\n",
       "            fuelType          brand  notRepairedDamage  \n",
       "count  285423.000000  285423.000000      285423.000000  \n",
       "mean        1.665854      20.754666           0.896399  \n",
       "std         1.058651      13.354361           0.304742  \n",
       "min         0.000000       0.000000           0.000000  \n",
       "25%         1.000000       9.000000           1.000000  \n",
       "50%         1.000000      24.000000           1.000000  \n",
       "75%         3.000000      34.000000           1.000000  \n",
       "max         6.000000      39.000000           1.000000  "
      ]
     },
     "execution_count": 40,
     "metadata": {},
     "output_type": "execute_result"
    }
   ],
   "source": [
    "df.describe()"
   ]
  },
  {
   "cell_type": "code",
   "execution_count": 41,
   "id": "c74ce6b2",
   "metadata": {},
   "outputs": [
    {
     "data": {
      "text/plain": [
       "price                  1.366474\n",
       "abtest                -0.068535\n",
       "vehicleType           -0.853023\n",
       "yearOfRegistration    -0.074154\n",
       "gearbox               -1.582297\n",
       "powerPS                0.823294\n",
       "kilometer             -1.688138\n",
       "monthOfRegistration    0.064268\n",
       "fuelType               1.477613\n",
       "brand                 -0.152801\n",
       "notRepairedDamage     -2.601557\n",
       "dtype: float64"
      ]
     },
     "execution_count": 41,
     "metadata": {},
     "output_type": "execute_result"
    }
   ],
   "source": [
    "df.skew()"
   ]
  },
  {
   "cell_type": "code",
   "execution_count": 42,
   "id": "6c54d587",
   "metadata": {},
   "outputs": [
    {
     "data": {
      "text/plain": [
       "price                  1.214423\n",
       "abtest                -1.995317\n",
       "vehicleType           -0.155000\n",
       "yearOfRegistration     0.179966\n",
       "gearbox                0.503667\n",
       "powerPS                0.528249\n",
       "kilometer              1.808358\n",
       "monthOfRegistration   -1.116637\n",
       "fuelType               2.180277\n",
       "brand                 -1.324927\n",
       "notRepairedDamage      4.768131\n",
       "dtype: float64"
      ]
     },
     "execution_count": 42,
     "metadata": {},
     "output_type": "execute_result"
    }
   ],
   "source": [
    "df.kurtosis()"
   ]
  },
  {
   "cell_type": "code",
   "execution_count": null,
   "id": "3ca8ba45",
   "metadata": {},
   "outputs": [],
   "source": []
  },
  {
   "cell_type": "code",
   "execution_count": null,
   "id": "b5e8eeba",
   "metadata": {},
   "outputs": [],
   "source": []
  },
  {
   "cell_type": "code",
   "execution_count": null,
   "id": "e6f86acf",
   "metadata": {},
   "outputs": [],
   "source": []
  },
  {
   "cell_type": "code",
   "execution_count": 43,
   "id": "280bd9a1",
   "metadata": {},
   "outputs": [],
   "source": [
    "#splitting the data into x and y\n",
    "\n",
    "x=df.drop(columns=\"price\")\n",
    "y=df[\"price\"]"
   ]
  },
  {
   "cell_type": "code",
   "execution_count": 44,
   "id": "1cdcfd0f",
   "metadata": {},
   "outputs": [],
   "source": [
    "from sklearn.model_selection import train_test_split\n",
    "x_train, x_test, y_train, y_test = train_test_split(x, y, test_size=0.2, random_state=0)"
   ]
  },
  {
   "cell_type": "code",
   "execution_count": 45,
   "id": "1238a70b",
   "metadata": {},
   "outputs": [
    {
     "data": {
      "text/plain": [
       "<AxesSubplot:xlabel='yearOfRegistration'>"
      ]
     },
     "execution_count": 45,
     "metadata": {},
     "output_type": "execute_result"
    },
    {
     "data": {
      "image/png": "[encoded data removed]",
      "text/plain": [
       "<Figure size 640x480 with 1 Axes>"
      ]
     },
     "metadata": {},
     "output_type": "display_data"
    }
   ],
   "source": [
    "sns.boxplot(x=df[\"yearOfRegistration\"])"
   ]
  },
  {
   "cell_type": "code",
   "execution_count": 46,
   "id": "a735f590",
   "metadata": {
    "id": "a735f590"
   },
   "outputs": [],
   "source": [
    "# Linear Regression"
   ]
  },
  {
   "cell_type": "code",
   "execution_count": 47,
   "id": "6f94602d",
   "metadata": {
    "id": "6f94602d",
    "outputId": "00905d8f-c4c4-4a01-daa7-66d84e460356"
   },
   "outputs": [
    {
     "data": {
      "text/plain": [
       "LinearRegression()"
      ]
     },
     "execution_count": 47,
     "metadata": {},
     "output_type": "execute_result"
    }
   ],
   "source": [
    "from sklearn.linear_model import LinearRegression\n",
    "lr = LinearRegression()\n",
    "lr.fit(x_train, y_train)"
   ]
  },
  {
   "cell_type": "code",
   "execution_count": 48,
   "id": "6a37c07e",
   "metadata": {
    "id": "6a37c07e"
   },
   "outputs": [],
   "source": [
    "# Lasso Regression"
   ]
  },
  {
   "cell_type": "code",
   "execution_count": 49,
   "id": "8c382772",
   "metadata": {
    "id": "8c382772",
    "outputId": "675f65cd-b64c-4177-f882-eed1ed3d4866",
    "scrolled": true
   },
   "outputs": [
    {
     "data": {
      "text/plain": [
       "Lasso(alpha=0.01, normalize=True)"
      ]
     },
     "execution_count": 49,
     "metadata": {},
     "output_type": "execute_result"
    }
   ],
   "source": [
    "from sklearn.linear_model import Lasso\n",
    "lasso = Lasso(alpha=0.01, normalize=True)\n",
    "lasso.fit(x_train, y_train)"
   ]
  },
  {
   "cell_type": "code",
   "execution_count": 50,
   "id": "883bfb7b",
   "metadata": {
    "id": "883bfb7b"
   },
   "outputs": [],
   "source": [
    "# Ridge Regression"
   ]
  },
  {
   "cell_type": "code",
   "execution_count": 51,
   "id": "a54d23fe",
   "metadata": {
    "id": "a54d23fe",
    "outputId": "eceade46-61c9-4fb0-9071-091c6e86025d",
    "scrolled": true
   },
   "outputs": [
    {
     "data": {
      "text/plain": [
       "Ridge(alpha=0.01, normalize=True)"
      ]
     },
     "execution_count": 51,
     "metadata": {},
     "output_type": "execute_result"
    }
   ],
   "source": [
    "from sklearn.linear_model import Ridge\n",
    "ridge = Ridge(alpha=0.01, normalize=True)\n",
    "ridge.fit(x_train, y_train)"
   ]
  },
  {
   "cell_type": "code",
   "execution_count": 52,
   "id": "ce2557c2",
   "metadata": {
    "id": "ce2557c2"
   },
   "outputs": [],
   "source": [
    "# Decision Tree"
   ]
  },
  {
   "cell_type": "code",
   "execution_count": 53,
   "id": "79a2ff53",
   "metadata": {
    "id": "79a2ff53",
    "outputId": "6814b80e-117d-40ff-cdac-50739b987609"
   },
   "outputs": [
    {
     "data": {
      "text/plain": [
       "DecisionTreeRegressor()"
      ]
     },
     "execution_count": 53,
     "metadata": {},
     "output_type": "execute_result"
    }
   ],
   "source": [
    "from sklearn.tree import DecisionTreeRegressor\n",
    "DT = DecisionTreeRegressor()\n",
    "DT.fit(x_train, y_train)"
   ]
  },
  {
   "cell_type": "code",
   "execution_count": 54,
   "id": "79224650",
   "metadata": {
    "id": "79224650"
   },
   "outputs": [],
   "source": [
    "# KNN"
   ]
  },
  {
   "cell_type": "code",
   "execution_count": 55,
   "id": "74333a64",
   "metadata": {
    "id": "74333a64",
    "outputId": "cd18e3d5-67e1-4f64-ce3b-e9c0ef12d0b3"
   },
   "outputs": [
    {
     "data": {
      "text/plain": [
       "KNeighborsRegressor()"
      ]
     },
     "execution_count": 55,
     "metadata": {},
     "output_type": "execute_result"
    }
   ],
   "source": [
    "from sklearn.neighbors import KNeighborsRegressor\n",
    "knn = KNeighborsRegressor()\n",
    "knn.fit(x_train, y_train)"
   ]
  },
  {
   "cell_type": "code",
   "execution_count": 56,
   "id": "f80d5e69",
   "metadata": {
    "id": "f80d5e69"
   },
   "outputs": [],
   "source": [
    "# Random Forest"
   ]
  },
  {
   "cell_type": "code",
   "execution_count": 57,
   "id": "2fc75d9f",
   "metadata": {
    "id": "2fc75d9f",
    "outputId": "86baeb37-89a9-484c-a0a5-1497cf5c5ed2",
    "scrolled": true
   },
   "outputs": [
    {
     "data": {
      "text/plain": [
       "RandomForestRegressor()"
      ]
     },
     "execution_count": 57,
     "metadata": {},
     "output_type": "execute_result"
    }
   ],
   "source": [
    "from sklearn.ensemble import RandomForestRegressor\n",
    "RF = RandomForestRegressor()\n",
    "RF.fit(x_train, y_train)"
   ]
  },
  {
   "cell_type": "markdown",
   "id": "b4758580",
   "metadata": {
    "id": "b4758580"
   },
   "source": [
    "# Checking the Metrics of the models"
   ]
  },
  {
   "cell_type": "code",
   "execution_count": 58,
   "id": "7faf3c96",
   "metadata": {
    "id": "7faf3c96",
    "outputId": "32963199-9a46-44d6-b299-3cfeaa089e68",
    "scrolled": true
   },
   "outputs": [
    {
     "data": {
      "text/plain": [
       "0.5794527476293614"
      ]
     },
     "execution_count": 58,
     "metadata": {},
     "output_type": "execute_result"
    }
   ],
   "source": [
    "# Linear Regression\n",
    "lr.score(x_test, y_test)"
   ]
  },
  {
   "cell_type": "code",
   "execution_count": 59,
   "id": "b107e35d",
   "metadata": {
    "id": "b107e35d",
    "outputId": "a40ac25a-0343-4c30-87af-0c0edf62cac4"
   },
   "outputs": [
    {
     "data": {
      "text/plain": [
       "2926.424654896681"
      ]
     },
     "execution_count": 59,
     "metadata": {},
     "output_type": "execute_result"
    }
   ],
   "source": [
    "from sklearn.metrics import mean_squared_error\n",
    "np.sqrt(mean_squared_error(y_test,lr.predict(x_test)))"
   ]
  },
  {
   "cell_type": "code",
   "execution_count": 60,
   "id": "722ff329",
   "metadata": {
    "id": "722ff329",
    "outputId": "55150a07-d67d-4def-f81e-953c1d2f73f4"
   },
   "outputs": [
    {
     "data": {
      "text/plain": [
       "0.5795001381462063"
      ]
     },
     "execution_count": 60,
     "metadata": {},
     "output_type": "execute_result"
    }
   ],
   "source": [
    "# Lasso Regression\n",
    "lasso.score(x_test, y_test)"
   ]
  },
  {
   "cell_type": "code",
   "execution_count": 61,
   "id": "8343e26e",
   "metadata": {
    "id": "8343e26e",
    "outputId": "1c6f471e-4fff-48e1-a8c8-46a229e07174"
   },
   "outputs": [
    {
     "data": {
      "text/plain": [
       "2926.2597641699435"
      ]
     },
     "execution_count": 61,
     "metadata": {},
     "output_type": "execute_result"
    }
   ],
   "source": [
    "np.sqrt(mean_squared_error(y_test,lasso.predict(x_test)))"
   ]
  },
  {
   "cell_type": "code",
   "execution_count": 62,
   "id": "9649ae78",
   "metadata": {
    "id": "9649ae78",
    "outputId": "8f783cb0-34d5-4f76-8997-590b0634a299"
   },
   "outputs": [
    {
     "data": {
      "text/plain": [
       "0.5794718461011592"
      ]
     },
     "execution_count": 62,
     "metadata": {},
     "output_type": "execute_result"
    }
   ],
   "source": [
    "# Linear Regression\n",
    "lr.score(x_test, y_test)# Ridge Regression\n",
    "ridge.score(x_test, y_test)"
   ]
  },
  {
   "cell_type": "code",
   "execution_count": 63,
   "id": "aa12b484",
   "metadata": {
    "id": "aa12b484",
    "outputId": "9603f5f0-5d78-4912-eebb-b848b3994589"
   },
   "outputs": [
    {
     "data": {
      "text/plain": [
       "2926.358204726123"
      ]
     },
     "execution_count": 63,
     "metadata": {},
     "output_type": "execute_result"
    }
   ],
   "source": [
    "np.sqrt(mean_squared_error(y_test,ridge.predict(x_test)))"
   ]
  },
  {
   "cell_type": "code",
   "execution_count": 64,
   "id": "4c2a730f",
   "metadata": {
    "id": "4c2a730f",
    "outputId": "ab3d5caa-982d-4c31-bfd3-9bff4433fe06"
   },
   "outputs": [
    {
     "data": {
      "text/plain": [
       "0.8067310400816672"
      ]
     },
     "execution_count": 64,
     "metadata": {},
     "output_type": "execute_result"
    }
   ],
   "source": [
    "# K Nearest Neighbour\n",
    "knn.score(x_test, y_test)"
   ]
  },
  {
   "cell_type": "code",
   "execution_count": 65,
   "id": "3b3525da",
   "metadata": {
    "id": "3b3525da",
    "outputId": "1c388cfe-ab95-4df7-842e-60cc101573a9"
   },
   "outputs": [
    {
     "data": {
      "text/plain": [
       "1983.8599127375612"
      ]
     },
     "execution_count": 65,
     "metadata": {},
     "output_type": "execute_result"
    }
   ],
   "source": [
    "np.sqrt(mean_squared_error(y_test,knn.predict(x_test)))"
   ]
  },
  {
   "cell_type": "code",
   "execution_count": 66,
   "id": "e6bf1b8d",
   "metadata": {
    "id": "e6bf1b8d",
    "outputId": "977d11cf-fe14-4235-8762-342a47af3ca5"
   },
   "outputs": [
    {
     "data": {
      "text/plain": [
       "0.7509675534712763"
      ]
     },
     "execution_count": 66,
     "metadata": {},
     "output_type": "execute_result"
    }
   ],
   "source": [
    "# Decision Tree\n",
    "DT.score(x_test, y_test)"
   ]
  },
  {
   "cell_type": "code",
   "execution_count": 67,
   "id": "6126bdb0",
   "metadata": {
    "id": "6126bdb0",
    "outputId": "c10ef030-9108-49c3-f009-1f5e054e1957"
   },
   "outputs": [
    {
     "data": {
      "text/plain": [
       "2251.945701577709"
      ]
     },
     "execution_count": 67,
     "metadata": {},
     "output_type": "execute_result"
    }
   ],
   "source": [
    "np.sqrt(mean_squared_error(y_test,DT.predict(x_test)))"
   ]
  },
  {
   "cell_type": "code",
   "execution_count": 68,
   "id": "baae6adf",
   "metadata": {
    "id": "baae6adf",
    "outputId": "4bd48f2a-901e-4d7e-90cb-763647d927db"
   },
   "outputs": [
    {
     "data": {
      "text/plain": [
       "0.8512293757383766"
      ]
     },
     "execution_count": 68,
     "metadata": {},
     "output_type": "execute_result"
    }
   ],
   "source": [
    "# Random Forest\n",
    "RF.score(x_test, y_test)"
   ]
  },
  {
   "cell_type": "code",
   "execution_count": 69,
   "id": "5804e147",
   "metadata": {
    "id": "5804e147",
    "outputId": "890a48f2-df98-4f37-c546-62980c9f1418"
   },
   "outputs": [
    {
     "data": {
      "text/plain": [
       "1740.558160673979"
      ]
     },
     "execution_count": 69,
     "metadata": {},
     "output_type": "execute_result"
    }
   ],
   "source": [
    "np.sqrt(mean_squared_error(y_test,RF.predict(x_test)))"
   ]
  },
  {
   "cell_type": "markdown",
   "id": "2eb3dde9",
   "metadata": {},
   "source": [
    "# Saving the Model"
   ]
  },
  {
   "cell_type": "code",
   "execution_count": 71,
   "id": "e7307769",
   "metadata": {},
   "outputs": [],
   "source": [
    "import pickle\n",
    "pickle.dump(RF, open('Car Resale Value Prediction.pkl', 'wb'))"
   ]
  },
  {
   "cell_type": "code",
   "execution_count": null,
   "id": "246b5ad5",
   "metadata": {},
   "outputs": [],
   "source": []
  }
 ],
 "metadata": {
  "kernelspec": {
   "display_name": "Python 3 (ipykernel)",
   "language": "python",
   "name": "python3"
  },
  "language_info": {
   "codemirror_mode": {
    "name": "ipython",
    "version": 3
   },
   "file_extension": ".py",
   "mimetype": "text/x-python",
   "name": "python",
   "nbconvert_exporter": "python",
   "pygments_lexer": "ipython3",
   "version": "3.9.13"
  }
 },
 "nbformat": 4,
 "nbformat_minor": 5
}
